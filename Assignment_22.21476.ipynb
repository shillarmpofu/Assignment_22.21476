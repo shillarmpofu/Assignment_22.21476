{
 "cells": [
  {
   "cell_type": "code",
   "execution_count": 3,
   "metadata": {},
   "outputs": [
    {
     "name": "stdout",
     "output_type": "stream",
     "text": [
      "Enter your first name: Shillar \n",
      "Enter your last name: Mpofu\n",
      "Your reversed name is:  rallihS ufopM\n"
     ]
    }
   ],
   "source": [
    "First_Name = input(\"Enter your first name: \")\n",
    "Last_Name = input(\"Enter your last name: \")\n",
    "Full_Name = 'Your reversed name is: {} {}'.format(First_Name[::-1],Last_Name[::-1])\n",
    "print(Full_Name)"
   ]
  },
  {
   "cell_type": "code",
   "execution_count": null,
   "metadata": {},
   "outputs": [],
   "source": []
  }
 ],
 "metadata": {
  "kernelspec": {
   "display_name": "Python 3",
   "language": "python",
   "name": "python3"
  },
  "language_info": {
   "codemirror_mode": {
    "name": "ipython",
    "version": 3
   },
   "file_extension": ".py",
   "mimetype": "text/x-python",
   "name": "python",
   "nbconvert_exporter": "python",
   "pygments_lexer": "ipython3",
   "version": "3.7.0"
  }
 },
 "nbformat": 4,
 "nbformat_minor": 2
}
